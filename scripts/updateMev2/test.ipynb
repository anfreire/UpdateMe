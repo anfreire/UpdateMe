{
 "cells": [
  {
   "cell_type": "code",
   "execution_count": 1,
   "metadata": {},
   "outputs": [],
   "source": [
    "import os\n",
    "import sys\n",
    "module_path = os.path.abspath(os.path.join('..'))\n",
    "if module_path not in sys.path:\n",
    "    sys.path.append(module_path)"
   ]
  },
  {
   "cell_type": "code",
   "execution_count": 19,
   "metadata": {},
   "outputs": [],
   "source": [
    "from updateMev2.scrappers.Selenium import Selenium, WebDriverWait, EC\n",
    "from updateMev2.tools.Downloader import Downloader"
   ]
  },
  {
   "cell_type": "code",
   "execution_count": 20,
   "metadata": {},
   "outputs": [],
   "source": [
    "\n",
    "\n",
    "class FiveModRu(Selenium):\n",
    "    def __init__(self, user: str, app: str):\n",
    "        self.link = f\"https://5mod.ru/programmy/{user}/{app}.html\"\n",
    "        super().__init__()\n",
    "\n",
    "    def get_apk(self, app_name: str, provider_name: str):\n",
    "        title = app_name.replace(\" \", \"_\").lower()\n",
    "        provider = provider_name.replace(\" \", \"_\").lower()\n",
    "        filename =  f\"/home/anfreire/Documents/Projects/UpdateMeApps/{title}_{provider}.apk\".replace(\"(\", \"\").replace(\")\", \"\")\n",
    "        self.driver.get(self.link)\n",
    "        el = self.driver.find_element(\"xpath\", '//*[@id=\"load\"]/div[2]/a[1]')\n",
    "        self.driver.get(el.get_attribute(\"href\"))\n",
    "        wait = WebDriverWait(self.driver, 10)\n",
    "        button = wait.until(EC.presence_of_element_located((\"xpath\", '//*[@id=\"form\"]/div/a')))\n",
    "        fun = lambda: button.click()\n",
    "        return Downloader.get_downloaded_file(filename, fun)"
   ]
  },
  {
   "cell_type": "code",
   "execution_count": 22,
   "metadata": {},
   "outputs": [
    {
     "name": "stdout",
     "output_type": "stream",
     "text": [
      "com.picolo.android aff289f9efa8b11117f48fe197db9b00fd603f76ef0a3307b58c8eabcd0cae57\n"
     ]
    }
   ],
   "source": [
    "from updateMev2.tools.Apk import Apk\n",
    "\n",
    "\n",
    "apk = Apk(\"/home/anfreire/Documents/Projects/UpdateMeApps/picolo_androidrepublic.apk\")\n",
    "print(apk.packageName, apk.sha256)"
   ]
  }
 ],
 "metadata": {
  "kernelspec": {
   "display_name": "Python 3 (ipykernel)",
   "language": "python",
   "name": "python3"
  },
  "language_info": {
   "codemirror_mode": {
    "name": "ipython",
    "version": 3
   },
   "file_extension": ".py",
   "mimetype": "text/x-python",
   "name": "python",
   "nbconvert_exporter": "python",
   "pygments_lexer": "ipython3",
   "version": "3.12.2"
  }
 },
 "nbformat": 4,
 "nbformat_minor": 2
}
